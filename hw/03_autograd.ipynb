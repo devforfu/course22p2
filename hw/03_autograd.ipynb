{
 "cells": [
  {
   "cell_type": "code",
   "execution_count": null,
   "id": "68569513-13ad-453f-8522-30033d255300",
   "metadata": {},
   "outputs": [],
   "source": [
    "%cd .."
   ]
  },
  {
   "cell_type": "code",
   "execution_count": null,
   "id": "96f92c5b-510a-4d39-8fc7-daba1eace667",
   "metadata": {},
   "outputs": [],
   "source": [
    "%reload_ext autoreload\n",
    "%autoreload 2"
   ]
  },
  {
   "cell_type": "code",
   "execution_count": null,
   "id": "40739a3e-1611-4a79-af08-07351b56329d",
   "metadata": {},
   "outputs": [],
   "source": [
    "from dataclasses import dataclass, field\n",
    "from typing import Protocol "
   ]
  },
  {
   "cell_type": "code",
   "execution_count": null,
   "id": "ad7c4e9a-541b-47b7-9357-1c06c4a905fc",
   "metadata": {},
   "outputs": [],
   "source": [
    "import numpy as np\n",
    "import torch\n",
    "import matplotlib.pyplot as plt"
   ]
  },
  {
   "cell_type": "code",
   "execution_count": null,
   "id": "c0380725-e96f-4b13-b66b-826a7a194bb8",
   "metadata": {},
   "outputs": [],
   "source": [
    "from tensorviewer import tv\n",
    "from utils import get_mnist"
   ]
  },
  {
   "cell_type": "markdown",
   "id": "b135e057-a3bc-4f13-8f60-6fdcdd244bdf",
   "metadata": {},
   "source": [
    "# Data Preview"
   ]
  },
  {
   "cell_type": "code",
   "execution_count": null,
   "id": "39da20ba-e8ef-4724-becb-ab97e117d2fd",
   "metadata": {},
   "outputs": [],
   "source": [
    "x_trn, y_trn, x_val, y_val = [torch.as_tensor(x) for x in get_mnist()]"
   ]
  },
  {
   "cell_type": "code",
   "execution_count": null,
   "id": "48230e0e-0bce-4e4f-a0fc-44529b8e5932",
   "metadata": {},
   "outputs": [],
   "source": [
    "imgs = x_trn[10:20].reshape((10, 28, 28))"
   ]
  },
  {
   "cell_type": "code",
   "execution_count": null,
   "id": "1e58f7c5-8f4d-4ca7-87c2-32a6ec0f6f79",
   "metadata": {},
   "outputs": [],
   "source": [
    "tv(imgs)"
   ]
  },
  {
   "cell_type": "markdown",
   "id": "370039b3-13bc-468a-9cd0-da96ae8debc5",
   "metadata": {},
   "source": [
    "# MLP"
   ]
  },
  {
   "cell_type": "code",
   "execution_count": null,
   "id": "f5601ce0-2042-405d-afeb-41f91848118c",
   "metadata": {},
   "outputs": [],
   "source": [
    "from functools import reduce"
   ]
  },
  {
   "cell_type": "code",
   "execution_count": null,
   "id": "23883651-f613-48a6-b063-8e930d4eaea2",
   "metadata": {},
   "outputs": [],
   "source": [
    "torch.set_printoptions(precision=2)"
   ]
  },
  {
   "cell_type": "code",
   "execution_count": null,
   "id": "de76ba3e-dc5c-4af4-bbd3-3575f79d837b",
   "metadata": {},
   "outputs": [],
   "source": [
    "from functools import reduce\n",
    "import torch.nn as nn\n",
    "import torch.nn.functional as F\n",
    "\n",
    "class MLP(nn.Module):\n",
    "    def __init__(self, n_i, n_h, n_o):\n",
    "        super().__init__()\n",
    "        self.layers = nn.ModuleList([nn.Linear(n_i, n_h), nn.ReLU(), nn.Linear(n_h, n_o)])\n",
    "    def forward(self, x):\n",
    "        return reduce(lambda x, l: l(x), self.layers, x)"
   ]
  },
  {
   "cell_type": "code",
   "execution_count": null,
   "id": "747cd3d3-94a4-4bd7-9859-c022c1e85658",
   "metadata": {},
   "outputs": [],
   "source": [
    "mlp = MLP(784, 50, 10)"
   ]
  },
  {
   "cell_type": "code",
   "execution_count": null,
   "id": "94dccab3-2a06-4462-bbbc-23a196d9db4a",
   "metadata": {},
   "outputs": [],
   "source": [
    "logits = mlp(x_trn[5:10])\n",
    "logits"
   ]
  },
  {
   "cell_type": "markdown",
   "id": "55d3edb5-992a-42d3-be95-3718dd430a8a",
   "metadata": {},
   "source": [
    "## Log Softmax and Cross-Entropy "
   ]
  },
  {
   "cell_type": "code",
   "execution_count": null,
   "id": "44c03b35-9894-4c7b-8d97-0a6f725ccf8a",
   "metadata": {},
   "outputs": [],
   "source": [
    "def softmax(t):\n",
    "    p = torch.exp(t)\n",
    "    return p / p.sum(1, keepdim=True)"
   ]
  },
  {
   "cell_type": "code",
   "execution_count": null,
   "id": "e8a01866-338e-4364-92ae-af23375b499f",
   "metadata": {},
   "outputs": [],
   "source": [
    "assert torch.allclose(softmax(logits), torch.softmax(logits, dim=1))"
   ]
  },
  {
   "cell_type": "code",
   "execution_count": null,
   "id": "d0760a2a-da3e-4b38-94ea-cd437feb04e3",
   "metadata": {},
   "outputs": [],
   "source": [
    "probs = softmax(logits)\n",
    "probs"
   ]
  },
  {
   "cell_type": "code",
   "execution_count": null,
   "id": "eb162adc-96dc-4ff0-bef8-5dc12be29e7c",
   "metadata": {},
   "outputs": [],
   "source": [
    "def ce(logits, targets):\n",
    "    probs = softmax(logits)\n",
    "    probs = probs.gather(dim=1, index=targets.view(-1, 1)).squeeze(1)\n",
    "    return -probs.log().mean()"
   ]
  },
  {
   "cell_type": "code",
   "execution_count": null,
   "id": "01cb75b4-4ceb-4df2-9fda-b0baab418265",
   "metadata": {},
   "outputs": [],
   "source": [
    "o, y = mlp(x_trn[5:10]), y_trn[5:10]"
   ]
  },
  {
   "cell_type": "code",
   "execution_count": null,
   "id": "d62bea72-8a87-4237-af10-0fe90f063d7c",
   "metadata": {},
   "outputs": [],
   "source": [
    "assert torch.allclose(ce(o, y), F.cross_entropy(o, y))"
   ]
  },
  {
   "cell_type": "code",
   "execution_count": null,
   "id": "93abe866-0a31-4f26-8830-0eea975bcf51",
   "metadata": {},
   "outputs": [],
   "source": [
    "def log_softmax(t):\n",
    "    t.sub_(t.max(dim=1, keepdim=True)[0])\n",
    "    t.sub_(t.exp().sum(dim=1, keepdim=True).log())\n",
    "    return t"
   ]
  },
  {
   "cell_type": "code",
   "execution_count": null,
   "id": "d3f12303-706f-44e1-99eb-239e4ca2baea",
   "metadata": {},
   "outputs": [],
   "source": [
    "def ce(logits, targets):\n",
    "    return -log_softmax(logits).gather(dim=1, index=targets.view(-1, 1)).squeeze(1).mean()"
   ]
  },
  {
   "cell_type": "code",
   "execution_count": null,
   "id": "ad4d946f-3da1-4c69-8388-6faf334ffc36",
   "metadata": {},
   "outputs": [],
   "source": [
    "assert torch.allclose(ce(o, y), F.cross_entropy(o, y))"
   ]
  },
  {
   "cell_type": "markdown",
   "id": "798c592f-1e2f-4282-a3a5-59f70a63cbf8",
   "metadata": {},
   "source": [
    "## Dataset"
   ]
  },
  {
   "cell_type": "code",
   "execution_count": null,
   "id": "c6f76ee2-2869-40ba-b434-78526fea7858",
   "metadata": {},
   "outputs": [],
   "source": [
    "class Dataset:\n",
    "    def __init__(self, x, y):\n",
    "        assert len(x) == len(y)\n",
    "        self.x, self.y = x, y\n",
    "    def __len__(self): return len(self.x)\n",
    "    def __getitem__(self, index): return self.x[index], self.y[index]"
   ]
  },
  {
   "cell_type": "code",
   "execution_count": null,
   "id": "a8d4dfc2-1519-474e-8ac9-a4e6dbad9bd3",
   "metadata": {},
   "outputs": [],
   "source": [
    "ds = Dataset(x_trn, y_trn)"
   ]
  },
  {
   "cell_type": "code",
   "execution_count": null,
   "id": "50ee9213-655a-4139-8a54-fceee6693216",
   "metadata": {},
   "outputs": [],
   "source": [
    "ds[0][0].shape, ds[0][1].shape"
   ]
  },
  {
   "cell_type": "markdown",
   "id": "811ae2a2-a1aa-4ca3-b2e8-c9c86a7b18da",
   "metadata": {},
   "source": [
    "## DataLoader"
   ]
  },
  {
   "cell_type": "code",
   "execution_count": null,
   "id": "7b6a5ba3-5511-4e4e-b178-8b608da4817b",
   "metadata": {},
   "outputs": [],
   "source": [
    "class Sampler(Protocol):\n",
    "    def get_idx(self, dataset: Dataset): pass\n",
    "\n",
    "@dataclass\n",
    "class SequentialSampler(Sampler):\n",
    "    def get_idx(self, dataset: Dataset): return np.arange(len(dataset))\n",
    "\n",
    "@dataclass\n",
    "class RandomSampler(Sampler):\n",
    "    def get_idx(self, dataset: Dataset): \n",
    "        idx = SequentialSampler().get_idx(dataset)\n",
    "        np.random.shuffle(idx)\n",
    "        return idx\n",
    "    \n",
    "@dataclass\n",
    "class DataLoader:\n",
    "    dataset: Dataset\n",
    "    bs: int = 1\n",
    "    shuffle: bool = False\n",
    "    sampler: Sampler = None\n",
    "    \n",
    "    def __post_init__(self):\n",
    "        if self.sampler is None:\n",
    "            self.sampler = (RandomSampler if self.shuffle else SequentialSampler)()\n",
    "    \n",
    "    def __iter__(self):\n",
    "        idx = self.sampler.get_idx(self.dataset)\n",
    "        for i in range(0, len(idx), self.bs):\n",
    "            yield self.dataset[idx[i:i+self.bs]]\n",
    "            \n",
    "    def __len__(self): return int(np.ceil(len(self.dataset) // self.bs))"
   ]
  },
  {
   "cell_type": "code",
   "execution_count": null,
   "id": "b64744c2-38a7-43b8-84be-961bbfab5dcf",
   "metadata": {},
   "outputs": [],
   "source": [
    "next(iter((DataLoader(ds, 4))))"
   ]
  },
  {
   "cell_type": "code",
   "execution_count": null,
   "id": "41b40848-419c-4e0c-bc26-ff4152898e89",
   "metadata": {},
   "outputs": [],
   "source": [
    "next(iter((DataLoader(ds, 4, shuffle=True))))"
   ]
  },
  {
   "cell_type": "markdown",
   "id": "2b3e212a-dd47-45c9-8406-8457c05ec9f7",
   "metadata": {},
   "source": [
    "## Training Loop"
   ]
  },
  {
   "cell_type": "code",
   "execution_count": null,
   "id": "7676c7bc-8c76-47fd-8b73-2ad3d4be761d",
   "metadata": {},
   "outputs": [],
   "source": [
    "def acc(x, y): return (x == y).float().mean()"
   ]
  },
  {
   "cell_type": "code",
   "execution_count": null,
   "id": "1a947f8f-805f-49d0-8e7d-e1e5800d8d19",
   "metadata": {},
   "outputs": [],
   "source": [
    "class Optimizer:\n",
    "    def __init__(self, params, lr): \n",
    "        self.params, self.lr = list(params), lr\n",
    "    def step(self): \n",
    "        for param in self.params:\n",
    "            param.data -= self.lr * param.grad\n",
    "    def zero_grad(self):\n",
    "        for param in self.params:\n",
    "            param.grad.zero_()"
   ]
  },
  {
   "cell_type": "code",
   "execution_count": null,
   "id": "a7e662d3-0d87-4521-ba9c-7b2f7e5fd4e7",
   "metadata": {},
   "outputs": [],
   "source": [
    "from collections import defaultdict\n",
    "\n",
    "epochs = 10\n",
    "lr = 0.03\n",
    "mlp = MLP(784, 50, 10)\n",
    "opt = Optimizer(mlp.parameters(), lr)\n",
    "\n",
    "trn_dl = DataLoader(Dataset(x_trn, y_trn), 32, True)\n",
    "val_dl = DataLoader(Dataset(x_val, y_val), 64)\n",
    "\n",
    "for epoch in range(epochs):\n",
    "    cnts = defaultdict(int)\n",
    "    \n",
    "    for (xb, yb) in trn_dl:\n",
    "        loss = ce(mlp(xb), yb)\n",
    "        loss.backward()\n",
    "        opt.step()\n",
    "        opt.zero_grad()\n",
    "        cnts[\"train_loss\"] += loss.item()\n",
    "                \n",
    "    cnts[\"train_loss\"] /= len(trn_dl)\n",
    "        \n",
    "    with torch.no_grad():\n",
    "        for (xb, yb) in val_dl:\n",
    "            logits = mlp(xb)\n",
    "            pred = softmax(logits).argmax(dim=1)\n",
    "            cnts[\"valid_loss\"] += ce(logits, yb) \n",
    "            cnts[\"valid_acc\"] += acc(pred, yb)\n",
    "    \n",
    "    cnts[\"valid_loss\"] /= len(val_dl)\n",
    "    cnts[\"valid_acc\"] /= len(val_dl)\n",
    "    cnts[\"epoch\"] = epoch\n",
    "    \n",
    "    print(\"Epoch {epoch:03d} | loss(trn) = {train_loss:.4f} | loss(val) = {valid_loss:.4f} | acc = {valid_acc:.4f}\".format(**cnts))"
   ]
  }
 ],
 "metadata": {
  "kernelspec": {
   "display_name": "Python 3 (ipykernel)",
   "language": "python",
   "name": "python3"
  },
  "language_info": {
   "codemirror_mode": {
    "name": "ipython",
    "version": 3
   },
   "file_extension": ".py",
   "mimetype": "text/x-python",
   "name": "python",
   "nbconvert_exporter": "python",
   "pygments_lexer": "ipython3",
   "version": "3.8.10"
  }
 },
 "nbformat": 4,
 "nbformat_minor": 5
}
