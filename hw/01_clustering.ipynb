{
 "cells": [
  {
   "cell_type": "markdown",
   "id": "fed782b5-d20d-447f-961d-8e4e85fdf202",
   "metadata": {},
   "source": [
    "# Clustering Algorithms"
   ]
  },
  {
   "cell_type": "code",
   "execution_count": null,
   "id": "b299ad20-721e-47ab-a57d-51cfd7e0c6da",
   "metadata": {},
   "outputs": [],
   "source": [
    "import math\n",
    "import torch\n",
    "import matplotlib.pyplot as plt\n",
    "from torch.distributions import MultivariateNormal"
   ]
  },
  {
   "cell_type": "code",
   "execution_count": null,
   "id": "34a7d6c0-be39-4933-9125-6fbc991b87f7",
   "metadata": {},
   "outputs": [],
   "source": [
    "torch.set_printoptions(precision=4, sci_mode=False)"
   ]
  },
  {
   "cell_type": "markdown",
   "id": "e6ca6191-fa87-4b20-b238-417f74c0206a",
   "metadata": {},
   "source": [
    "## 1. Randomly-Generated Data"
   ]
  },
  {
   "cell_type": "code",
   "execution_count": null,
   "id": "06de05ca-dd89-4d3a-ba43-caf8fd4307ba",
   "metadata": {},
   "outputs": [],
   "source": [
    "n_clusters = 10\n",
    "n_samples = 250"
   ]
  },
  {
   "cell_type": "code",
   "execution_count": null,
   "id": "2a9f2e60-57b8-49ce-8b76-b0877dec6b5f",
   "metadata": {},
   "outputs": [],
   "source": [
    "random_centers = torch.rand((n_clusters, 2)) * 100 - 50"
   ]
  },
  {
   "cell_type": "code",
   "execution_count": null,
   "id": "4e0c0855-695b-4694-b001-472677371e4c",
   "metadata": {},
   "outputs": [],
   "source": [
    "plt.scatter(random_centers[...,0], random_centers[...,1], marker=\"x\");"
   ]
  },
  {
   "cell_type": "code",
   "execution_count": null,
   "id": "58d39461-a3ac-489e-bc60-ba1b71af8e24",
   "metadata": {},
   "outputs": [],
   "source": [
    "def generate_data(clusters: torch.Tensor, n: int):\n",
    "    from itertools import chain\n",
    "    colors = torch.as_tensor(list(chain(*[[i]*n for i in range(clusters.shape[0])])))\n",
    "    return (\n",
    "        torch.cat([\n",
    "            MultivariateNormal(center, torch.diag(torch.tensor([5., 5.]))).sample((n,))\n",
    "            for center in clusters\n",
    "        ]),\n",
    "        colors\n",
    "    )"
   ]
  },
  {
   "cell_type": "code",
   "execution_count": null,
   "id": "96b54d75-cda1-484f-9683-f139cd4447b8",
   "metadata": {},
   "outputs": [],
   "source": [
    "data, clusters = generate_data(random_centers, n_samples)"
   ]
  },
  {
   "cell_type": "code",
   "execution_count": null,
   "id": "9e71c916-9117-438d-b2a6-bc9c65f821cf",
   "metadata": {},
   "outputs": [],
   "source": [
    "def plot_data(X, clusters, centers):\n",
    "    assert len(X) == len(clusters)\n",
    "    _, ax = plt.subplots(1, 1)\n",
    "    ax.scatter(X[...,0], X[...,1], c=clusters, cmap=\"tab10\", marker=\".\", s=2)\n",
    "    ax.scatter(centers[..., 0], centers[..., 1], c=\"black\", marker=\"X\", s=20)\n",
    "    ax.scatter(centers[..., 0], centers[..., 1], c=\"white\", marker=\"x\", s=10)    "
   ]
  },
  {
   "cell_type": "code",
   "execution_count": null,
   "id": "82579b5d-223a-46a4-becc-d8ef633802f0",
   "metadata": {},
   "outputs": [],
   "source": [
    "plot_data(data, clusters, random_centers)"
   ]
  },
  {
   "cell_type": "code",
   "execution_count": null,
   "id": "e87cc52a-f855-4fdd-ab7a-ccdda3837f72",
   "metadata": {},
   "outputs": [],
   "source": [
    "#         _, ax = plt.subplots(1, 1)\n",
    "#         ax.scatter(X[...,0], X[...,1], c=colors, cmap=\"tab10\", marker=\".\", s=2)\n",
    "#         ax.scatter(centers[..., 0], centers[..., 1], c=\"black\", marker=\"X\", s=20)\n",
    "#         ax.scatter(centers[..., 0], centers[..., 1], c=\"white\", marker=\"x\", s=10)"
   ]
  },
  {
   "cell_type": "code",
   "execution_count": null,
   "id": "35f04f0a-62c3-4c83-a1e3-651ec1966900",
   "metadata": {},
   "outputs": [],
   "source": [
    "# from dataclasses import dataclass, field\n",
    "# @dataclass\n",
    "# class RandomClusters:\n",
    "#     n_clusters: int\n",
    "#     n_per_cluster: int\n",
    "#     a: float = 100\n",
    "#     b: float = -50\n",
    "    \n",
    "#     _centers: torch.Tensor = field(init=False)\n",
    "#     _points: torch.Tensor = field(init=False)\n",
    "    \n",
    "#     @property\n",
    "#     def centers(self): return self._centers\n",
    "\n",
    "#     @property\n",
    "#     def points(self): return self._points\n",
    "\n",
    "#     def __repr__(self): return (\n",
    "#         f\"RandomCluster(centers={self._centers.shape}, points={self._points.shape})\\n\"\n",
    "#         f\"Centers:\\n{self.centers}\"\n",
    "#     )\n",
    "    \n",
    "#     def __post_init__(self):\n",
    "#         uniform = torch.rand((self.n_clusters, 2))\n",
    "#         centers = self.a*uniform + self.b\n",
    "#         self._centers = centers\n",
    "#         self._points = generate_data(centers, self.n_per_cluster)\n",
    "        \n",
    "#     def plot_centers(self):\n",
    "#         plt.scatter(self.centers[...,0], self.centers[...,1], marker=\"x\")\n",
    "        \n",
    "#     def plot_data(self):\n",
    "#         X, centers, colors = self._points, self._centers, self.true_clusters()\n",
    "#         _, ax = plt.subplots(1, 1)\n",
    "#         ax.scatter(X[...,0], X[...,1], c=colors, cmap=\"tab10\", marker=\".\", s=2)\n",
    "#         ax.scatter(centers[..., 0], centers[..., 1], c=\"black\", marker=\"X\", s=20)\n",
    "#         ax.scatter(centers[..., 0], centers[..., 1], c=\"white\", marker=\"x\", s=10)\n",
    "        \n",
    "#     def true_clusters(self):\n",
    "#         from itertools import chain\n",
    "#         colors = list(chain(*[[i]*self.n_per_cluster for i in range(self.n_clusters)]))\n",
    "#         return colors"
   ]
  },
  {
   "cell_type": "markdown",
   "id": "f23af50f-c935-4bc8-b236-3f19843d82bc",
   "metadata": {},
   "source": [
    "## 2. Mean Shift Clustering"
   ]
  },
  {
   "cell_type": "code",
   "execution_count": null,
   "id": "a020dde7-580f-4a71-b312-f81ec16dc2b7",
   "metadata": {},
   "outputs": [],
   "source": [
    "def gaussian(data: torch.Tensor, bw: float): \n",
    "    return torch.exp(-0.5*(data/bw)**2) / (bw*math.sqrt(2*math.pi))"
   ]
  },
  {
   "cell_type": "code",
   "execution_count": null,
   "id": "a496edf7-8308-46ae-be52-a38907c48ee8",
   "metadata": {},
   "outputs": [],
   "source": [
    "[plt.plot(gaussian(torch.arange(20), bw), label=f\"bw={bw}\") for bw in (1., 2.5, 5.)]\n",
    "plt.legend()\n",
    "plt.show()"
   ]
  },
  {
   "cell_type": "markdown",
   "id": "c1ac17b4-5079-4e01-a43b-4fe5b928fa35",
   "metadata": {},
   "source": [
    "### 2.1. One Sample"
   ]
  },
  {
   "cell_type": "code",
   "execution_count": null,
   "id": "361ca5f9-c25c-426f-8dc5-532a29169f61",
   "metadata": {},
   "outputs": [],
   "source": [
    "X = data\n",
    "x = X[0]\n",
    "x, x.shape, X.shape"
   ]
  },
  {
   "cell_type": "code",
   "execution_count": null,
   "id": "a85362c9-a444-40c5-aaf5-fbebedacd233",
   "metadata": {},
   "outputs": [],
   "source": [
    "weight_to_x = gaussian((x - X).pow(2).sum(1).sqrt(), 2.5)"
   ]
  },
  {
   "cell_type": "code",
   "execution_count": null,
   "id": "31e09b43-9814-478e-a888-fa6ebb7fee1e",
   "metadata": {},
   "outputs": [],
   "source": [
    "weight_to_x.shape, X.shape"
   ]
  },
  {
   "cell_type": "code",
   "execution_count": null,
   "id": "7399786d-5adc-4ab3-b7e0-2fc415a3c893",
   "metadata": {},
   "outputs": [],
   "source": [
    "delta = (weight_to_x[:,None] * X).sum(0)/weight_to_x.sum()\n",
    "delta"
   ]
  },
  {
   "cell_type": "markdown",
   "id": "1c03daea-88e6-449d-9566-7cc76d2ebc92",
   "metadata": {},
   "source": [
    "### 2.2. All Samples"
   ]
  },
  {
   "cell_type": "code",
   "execution_count": null,
   "id": "22cab8c5-cf6f-4807-8493-86a95aa4bbcd",
   "metadata": {},
   "outputs": [],
   "source": [
    "X = data.clone()"
   ]
  },
  {
   "cell_type": "code",
   "execution_count": null,
   "id": "d4d58abb-c79b-4775-876d-7217c935431d",
   "metadata": {},
   "outputs": [],
   "source": [
    "W = (X[None] - X[:,None]).pow(2).sum(2).sqrt()"
   ]
  },
  {
   "cell_type": "code",
   "execution_count": null,
   "id": "5880964f-a850-4fb3-8285-5ee4624c53e5",
   "metadata": {},
   "outputs": [],
   "source": [
    "plt.imshow(W);"
   ]
  },
  {
   "cell_type": "code",
   "execution_count": null,
   "id": "eead349c-5fca-471c-9849-f16f94505e29",
   "metadata": {},
   "outputs": [],
   "source": [
    "W.shape, X.shape"
   ]
  },
  {
   "cell_type": "code",
   "execution_count": null,
   "id": "ce71663c-7381-4add-acaf-a1592e95481b",
   "metadata": {},
   "outputs": [],
   "source": [
    "(W @ X)/W.sum(1)[:,None]"
   ]
  },
  {
   "cell_type": "code",
   "execution_count": null,
   "id": "dff7967d-8fcb-4d0b-8a35-4ea184f99a89",
   "metadata": {},
   "outputs": [],
   "source": [
    "X = data.clone()\n",
    "for _ in range(15):\n",
    "    W = gaussian((X[None] - X[:, None]).pow(2).sum(2).sqrt(), 2.5)\n",
    "    X = (W @ X)/W.sum(1, keepdim=True)"
   ]
  },
  {
   "cell_type": "code",
   "execution_count": null,
   "id": "cc31deb2-bbe9-438d-9405-eb498ff683f8",
   "metadata": {},
   "outputs": [],
   "source": [
    "plot_data(X, clusters, random_centers + 1)"
   ]
  },
  {
   "cell_type": "code",
   "execution_count": null,
   "id": "521ed3bd-dc99-4128-af7d-ef1d5556b522",
   "metadata": {},
   "outputs": [],
   "source": [
    "ms_centers, ms_clusters = X.unique(dim=0, return_inverse=True)"
   ]
  },
  {
   "cell_type": "code",
   "execution_count": null,
   "id": "cacfee2a-4932-4026-900a-c9f33482d572",
   "metadata": {},
   "outputs": [],
   "source": [
    "plot_data(data, ms_clusters, ms_centers)"
   ]
  },
  {
   "cell_type": "code",
   "execution_count": null,
   "id": "55208237-d480-4d0c-ae09-7c3a4fd57a55",
   "metadata": {},
   "outputs": [],
   "source": []
  }
 ],
 "metadata": {
  "kernelspec": {
   "display_name": "Python 3 (ipykernel)",
   "language": "python",
   "name": "python3"
  },
  "language_info": {
   "codemirror_mode": {
    "name": "ipython",
    "version": 3
   },
   "file_extension": ".py",
   "mimetype": "text/x-python",
   "name": "python",
   "nbconvert_exporter": "python",
   "pygments_lexer": "ipython3",
   "version": "3.8.10"
  }
 },
 "nbformat": 4,
 "nbformat_minor": 5
}
