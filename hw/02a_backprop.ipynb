{
 "cells": [
  {
   "cell_type": "code",
   "execution_count": null,
   "id": "24271e14-99fb-47c8-b38f-84d228979fe4",
   "metadata": {},
   "outputs": [],
   "source": [
    "import gzip\n",
    "import pickle\n",
    "from pathlib import Path\n",
    "from urllib.request import urlretrieve\n",
    "import torch"
   ]
  },
  {
   "cell_type": "code",
   "execution_count": null,
   "id": "c1a36722-563f-4562-8893-e859dddfc650",
   "metadata": {},
   "outputs": [],
   "source": [
    "MNIST_URL = \"https://github.com/mnielsen/neural-networks-and-deep-learning/blob/master/data/mnist.pkl.gz?raw=true\""
   ]
  },
  {
   "cell_type": "code",
   "execution_count": null,
   "id": "260ab205-a42c-41ed-bc76-56912f0c93cb",
   "metadata": {},
   "outputs": [],
   "source": [
    "def get_mnist():\n",
    "    path_data = Path(\"data\")\n",
    "    path_data.mkdir(exist_ok=True)\n",
    "    path_gz = path_data/\"mnist.pkl.gz\"\n",
    "    if not path_gz.exists(): \n",
    "        urlretrieve(MNIST_URL, path_gz)\n",
    "    with gzip.open(path_gz, 'rb') as f: \n",
    "        ((x_train, y_train), (x_valid, y_valid), _) = pickle.load(f, encoding='latin-1')\n",
    "    data = x_train, y_train, x_valid, y_valid\n",
    "    print(f\"train: x.shape={x_train.shape}, y.shape={y_train.shape}\")\n",
    "    print(f\"valid: x.shape={x_valid.shape}, y.shape={y_valid.shape}\")\n",
    "    return data"
   ]
  },
  {
   "cell_type": "code",
   "execution_count": null,
   "id": "25335bbe-b86b-4f3f-b270-c346037b4ffe",
   "metadata": {},
   "outputs": [],
   "source": [
    "x_trn, y_trn, x_val, y_val = get_mnist()"
   ]
  },
  {
   "cell_type": "code",
   "execution_count": null,
   "id": "bb10ce3a-cb22-411e-a52d-01515ea6a435",
   "metadata": {},
   "outputs": [],
   "source": [
    "def test(t1, t2, eps=1e-8): assert torch.allclose(t1, t2, atol=eps)"
   ]
  },
  {
   "cell_type": "code",
   "execution_count": null,
   "id": "6b1bed1c-ea02-4fa5-bfde-7773f96d947a",
   "metadata": {},
   "outputs": [],
   "source": [
    "def grad(t): return t.requires_grad_(True)"
   ]
  },
  {
   "cell_type": "code",
   "execution_count": null,
   "id": "0df7b80d-a8e4-49cf-9b86-0ad33f9f970f",
   "metadata": {},
   "outputs": [],
   "source": [
    "class Module:\n",
    "    def __init__(self):\n",
    "        self._cache = {}\n",
    "    def __call__(self, *args, **kwargs):\n",
    "        return self.forward(*args, **kwargs)\n",
    "    def cache(self, **kwargs):\n",
    "        self._cache.update(**kwargs)\n",
    "    def get(self, key, *keys):\n",
    "        keys = [key] + list(keys)\n",
    "        return [self._cache.get(k) for k in keys]\n",
    "    def backward(self):\n",
    "        raise NotImplementedError()\n",
    "    def __repr__(self):\n",
    "        return f\"{self.__class__.__name__}\"\n",
    "    __str__ = __repr__"
   ]
  },
  {
   "cell_type": "code",
   "execution_count": null,
   "id": "17ba1b01-ace2-4b11-b4fa-99315ad57ac7",
   "metadata": {},
   "outputs": [],
   "source": [
    "from torch import tensor as t\n",
    "from torch.nn import functional as F"
   ]
  },
  {
   "cell_type": "markdown",
   "id": "ad1e5770-27e1-4f0a-bb85-d30bbab1c976",
   "metadata": {},
   "source": [
    "## MSE Loss\n",
    "\n",
    "$$\n",
    "\\begin{aligned}\n",
    "L &= MSE(y, \\hat{y}) = \\mathbb{E}(y - \\hat{y})^2 = \\mathbb{E}(d)^2 \\\\\n",
    "\\frac{dL}{d\\hat{y}} &= 2 \\times \\mathbb{E}(d) = 2\\frac{d}{N}\n",
    "\\end{aligned}\n",
    "$$"
   ]
  },
  {
   "cell_type": "code",
   "execution_count": null,
   "id": "d9a3878e-59b0-4017-9495-fdfe51459ef9",
   "metadata": {},
   "outputs": [],
   "source": [
    "class MSE(Module):\n",
    "    def forward(self, pred, gt):\n",
    "        d = pred - gt\n",
    "        self.cache(pred=pred, d=d)\n",
    "        return d.pow(2).mean()\n",
    "    def backward(self):\n",
    "        pred, d = self.get(\"pred\", \"d\")\n",
    "        pred.g = 2 * d / d.shape[0]"
   ]
  },
  {
   "cell_type": "code",
   "execution_count": null,
   "id": "18db3e6f-3666-4979-ba71-f68721d37376",
   "metadata": {},
   "outputs": [],
   "source": [
    "x, y = grad(t([1.5, 0.3, 2.0])), grad(t([1., 1., 3.]))\n",
    "\n",
    "mse = MSE()\n",
    "my, ref = mse(x, y), F.mse_loss(x, y)\n",
    "test(my, ref)\n",
    "\n",
    "mse.backward()\n",
    "ref.backward()\n",
    "test(x.g, x.grad)"
   ]
  },
  {
   "cell_type": "markdown",
   "id": "9527b3cf-902b-440f-a013-4d1dbf4f0b9e",
   "metadata": {},
   "source": [
    "## ReLU"
   ]
  },
  {
   "cell_type": "code",
   "execution_count": null,
   "id": "13e180ae-b442-4c6f-83a7-cb859436e0b9",
   "metadata": {},
   "outputs": [],
   "source": [
    "class ReLU(Module):\n",
    "    def forward(self, inp):\n",
    "        out = inp.clamp_min(0)\n",
    "        self.cache(i=inp, o=out)\n",
    "        return out\n",
    "    def backward(self):\n",
    "        i, o = self.get(\"i\", \"o\")\n",
    "        i.g = (i > 0).float() * o.g"
   ]
  },
  {
   "cell_type": "code",
   "execution_count": null,
   "id": "1f017384-cdc3-4b9f-bc85-63969ca37c14",
   "metadata": {},
   "outputs": [],
   "source": [
    "from torch.nn import MSELoss"
   ]
  },
  {
   "cell_type": "code",
   "execution_count": null,
   "id": "12400fbb-745c-409d-8549-82d1bb0c1e78",
   "metadata": {},
   "outputs": [],
   "source": [
    "x, y = grad(t([-1.5, 0., 2.0])), grad(t([1., 1., 3.]))\n",
    "\n",
    "F.mse_loss(F.relu(x), y).backward()\n",
    "\n",
    "mse, relu = MSE(), ReLU()\n",
    "mse(relu(x), y)\n",
    "mse.backward()\n",
    "relu.backward()\n",
    "\n",
    "test(x.g, x.grad)"
   ]
  },
  {
   "cell_type": "markdown",
   "id": "dab922fb-7d8c-4522-9225-c5bbb97a5000",
   "metadata": {},
   "source": [
    "## Linear"
   ]
  },
  {
   "cell_type": "code",
   "execution_count": null,
   "id": "12d7be97-cfa0-425d-a2ba-c1fe53cb47d6",
   "metadata": {},
   "outputs": [],
   "source": [
    "class MSE(Module):\n",
    "    def forward(self, pred, gt):\n",
    "        d = pred - gt\n",
    "        self.cache(pred=pred, d=d)\n",
    "        return d.pow(2).mean()\n",
    "    def backward(self):\n",
    "        pred, d = self.get(\"pred\", \"d\")\n",
    "        pred.g = 2 * d / d.shape[0]"
   ]
  },
  {
   "cell_type": "code",
   "execution_count": null,
   "id": "62db1094-4650-4179-9fcb-28f28978ec65",
   "metadata": {},
   "outputs": [],
   "source": [
    "class Linear(Module):\n",
    "    def __init__(self, W, b):\n",
    "        super().__init__()\n",
    "        self.W, self.b = W, b\n",
    "    def forward(self, inp):\n",
    "        out = inp @ self.W + self.b\n",
    "        self.cache(i=inp, o=out)\n",
    "        return out\n",
    "    def backward(self):\n",
    "        i, o = self.get(\"i\", \"o\")\n",
    "        i.g = o.g @ self.W.t() # i.g = self.W * o.g\n",
    "        self.W.g = i.t() @ o.g # self.W.g = i * o.g\n",
    "        self.b.g = o.g"
   ]
  },
  {
   "cell_type": "code",
   "execution_count": null,
   "id": "341184ee-e15f-4fb1-a71a-8f8af922d638",
   "metadata": {},
   "outputs": [],
   "source": [
    "X = torch.tensor([\n",
    "    [ 1, -2, 3, 1],\n",
    "    [ 0,  1, 0, 1],\n",
    "    [-1,  0, 1, 0]\n",
    "]).float()\n",
    "y = torch.tensor([1, 0, 3]).unsqueeze(-1)\n",
    "X, y"
   ]
  },
  {
   "cell_type": "code",
   "execution_count": null,
   "id": "8cb22f10-6af3-4ca7-9179-96ef5d166aa6",
   "metadata": {},
   "outputs": [],
   "source": [
    "W1 = grad(torch.eye(4))\n",
    "b1 = grad(torch.ones(X.shape[0], W1.shape[-1]))\n",
    "W2 = grad(t([1., 0., -1., 1.]).unsqueeze(-1))\n",
    "b2 = grad(torch.ones((X.shape[0], W2.shape[1])))"
   ]
  },
  {
   "cell_type": "code",
   "execution_count": null,
   "id": "142e7c8e-d951-4098-8cc8-f2ffdeca84b2",
   "metadata": {},
   "outputs": [],
   "source": [
    "(F.relu(F.relu(X@W1 + b1)@W2 + b2) - y).pow(2).mean().backward()"
   ]
  },
  {
   "cell_type": "code",
   "execution_count": null,
   "id": "b19a806e-303a-44aa-85d3-30ccd1a3c6ff",
   "metadata": {},
   "outputs": [],
   "source": [
    "mse = MSE()\n",
    "lin1, rel1 = Linear(W1, b1), ReLU()\n",
    "lin2, rel2 = Linear(W2, b2), ReLU()\n",
    "mse(rel2(lin2(rel1(lin1(X)))), y)\n",
    "mse.backward()\n",
    "rel2.backward()\n",
    "lin2.backward()\n",
    "rel1.backward()\n",
    "lin1.backward()"
   ]
  },
  {
   "cell_type": "code",
   "execution_count": null,
   "id": "60c00e2e-1018-44d7-9295-beb14c30b6e8",
   "metadata": {},
   "outputs": [],
   "source": [
    "[test(x.g, x.grad) for x in (W1, W2, b1, b2)];"
   ]
  },
  {
   "cell_type": "markdown",
   "id": "52c1eba9-62ed-42bb-a38a-87d5724d6f26",
   "metadata": {},
   "source": [
    "## Model"
   ]
  },
  {
   "cell_type": "code",
   "execution_count": null,
   "id": "af10ad73-b090-4a96-994b-9b2ec33277ec",
   "metadata": {},
   "outputs": [],
   "source": [
    "class MLP(Module):\n",
    "    def __init__(self, layers):\n",
    "        super().__init__()\n",
    "        self.layers = layers\n",
    "    def forward(self, inp):\n",
    "        x = inp\n",
    "        for layer in self.layers:\n",
    "            x = layer(x)\n",
    "        return x\n",
    "    def backward(self):\n",
    "        for layer in self.layers[::-1]:\n",
    "            layer.backward()"
   ]
  },
  {
   "cell_type": "code",
   "execution_count": null,
   "id": "6d93d741-1fff-48fc-b700-c51a471495f0",
   "metadata": {},
   "outputs": [],
   "source": [
    "W1 = grad(torch.eye(4))\n",
    "b1 = grad(torch.ones(X.shape[0], W1.shape[-1]))\n",
    "W2 = grad(t([1., 0., -1., 1.]).unsqueeze(-1))\n",
    "b2 = grad(torch.ones(X.shape[0], W2.shape[1]))\n",
    "\n",
    "mse = MSE()\n",
    "lin1, rel1 = Linear(W1, b1), ReLU()\n",
    "lin2, rel2 = Linear(W2, b2), ReLU()\n",
    "model = MLP([lin1, rel1, lin2, rel2])\n",
    "\n",
    "mse(model(X), y)\n",
    "mse.backward()\n",
    "model.backward()"
   ]
  },
  {
   "cell_type": "code",
   "execution_count": null,
   "id": "e5bfa70c-ed6f-41a6-8d16-7f184cb8f9b4",
   "metadata": {},
   "outputs": [],
   "source": []
  }
 ],
 "metadata": {
  "kernelspec": {
   "display_name": "Python 3 (ipykernel)",
   "language": "python",
   "name": "python3"
  },
  "language_info": {
   "codemirror_mode": {
    "name": "ipython",
    "version": 3
   },
   "file_extension": ".py",
   "mimetype": "text/x-python",
   "name": "python",
   "nbconvert_exporter": "python",
   "pygments_lexer": "ipython3",
   "version": "3.8.10"
  }
 },
 "nbformat": 4,
 "nbformat_minor": 5
}
